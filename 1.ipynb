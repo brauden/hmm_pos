{
 "cells": [
  {
   "cell_type": "code",
   "execution_count": 1,
   "metadata": {
    "collapsed": true
   },
   "outputs": [],
   "source": [
    "import numpy as np\n",
    "import nltk\n",
    "from collections import Counter"
   ]
  },
  {
   "cell_type": "code",
   "execution_count": 2,
   "outputs": [
    {
     "name": "stdout",
     "output_type": "stream",
     "text": [
      "10000\n",
      "<class 'nltk.collections.LazySubsequence'>\n",
      "[[('The', 'DET'), ('Fulton', 'NOUN'), ('County', 'NOUN'), ('Grand', 'ADJ'), ('Jury', 'NOUN'), ('said', 'VERB'), ('Friday', 'NOUN'), ('an', 'DET'), ('investigation', 'NOUN'), ('of', 'ADP'), (\"Atlanta's\", 'NOUN'), ('recent', 'ADJ'), ('primary', 'NOUN'), ('election', 'NOUN'), ('produced', 'VERB'), ('``', '.'), ('no', 'DET'), ('evidence', 'NOUN'), (\"''\", '.'), ('that', 'ADP'), ('any', 'DET'), ('irregularities', 'NOUN'), ('took', 'VERB'), ('place', 'NOUN'), ('.', '.')], [('The', 'DET'), ('jury', 'NOUN'), ('further', 'ADV'), ('said', 'VERB'), ('in', 'ADP'), ('term-end', 'NOUN'), ('presentments', 'NOUN'), ('that', 'ADP'), ('the', 'DET'), ('City', 'NOUN'), ('Executive', 'ADJ'), ('Committee', 'NOUN'), (',', '.'), ('which', 'DET'), ('had', 'VERB'), ('over-all', 'ADJ'), ('charge', 'NOUN'), ('of', 'ADP'), ('the', 'DET'), ('election', 'NOUN'), (',', '.'), ('``', '.'), ('deserves', 'VERB'), ('the', 'DET'), ('praise', 'NOUN'), ('and', 'CONJ'), ('thanks', 'NOUN'), ('of', 'ADP'), ('the', 'DET'), ('City', 'NOUN'), ('of', 'ADP'), ('Atlanta', 'NOUN'), (\"''\", '.'), ('for', 'ADP'), ('the', 'DET'), ('manner', 'NOUN'), ('in', 'ADP'), ('which', 'DET'), ('the', 'DET'), ('election', 'NOUN'), ('was', 'VERB'), ('conducted', 'VERB'), ('.', '.')], [('The', 'DET'), ('September-October', 'NOUN'), ('term', 'NOUN'), ('jury', 'NOUN'), ('had', 'VERB'), ('been', 'VERB'), ('charged', 'VERB'), ('by', 'ADP'), ('Fulton', 'NOUN'), ('Superior', 'ADJ'), ('Court', 'NOUN'), ('Judge', 'NOUN'), ('Durwood', 'NOUN'), ('Pye', 'NOUN'), ('to', 'PRT'), ('investigate', 'VERB'), ('reports', 'NOUN'), ('of', 'ADP'), ('possible', 'ADJ'), ('``', '.'), ('irregularities', 'NOUN'), (\"''\", '.'), ('in', 'ADP'), ('the', 'DET'), ('hard-fought', 'ADJ'), ('primary', 'NOUN'), ('which', 'DET'), ('was', 'VERB'), ('won', 'VERB'), ('by', 'ADP'), ('Mayor-nominate', 'NOUN'), ('Ivan', 'NOUN'), ('Allen', 'NOUN'), ('Jr.', 'NOUN'), ('.', '.')], [('``', '.'), ('Only', 'ADV'), ('a', 'DET'), ('relative', 'ADJ'), ('handful', 'NOUN'), ('of', 'ADP'), ('such', 'ADJ'), ('reports', 'NOUN'), ('was', 'VERB'), ('received', 'VERB'), (\"''\", '.'), (',', '.'), ('the', 'DET'), ('jury', 'NOUN'), ('said', 'VERB'), (',', '.'), ('``', '.'), ('considering', 'ADP'), ('the', 'DET'), ('widespread', 'ADJ'), ('interest', 'NOUN'), ('in', 'ADP'), ('the', 'DET'), ('election', 'NOUN'), (',', '.'), ('the', 'DET'), ('number', 'NOUN'), ('of', 'ADP'), ('voters', 'NOUN'), ('and', 'CONJ'), ('the', 'DET'), ('size', 'NOUN'), ('of', 'ADP'), ('this', 'DET'), ('city', 'NOUN'), (\"''\", '.'), ('.', '.')], [('The', 'DET'), ('jury', 'NOUN'), ('said', 'VERB'), ('it', 'PRON'), ('did', 'VERB'), ('find', 'VERB'), ('that', 'ADP'), ('many', 'ADJ'), ('of', 'ADP'), (\"Georgia's\", 'NOUN'), ('registration', 'NOUN'), ('and', 'CONJ'), ('election', 'NOUN'), ('laws', 'NOUN'), ('``', '.'), ('are', 'VERB'), ('outmoded', 'ADJ'), ('or', 'CONJ'), ('inadequate', 'ADJ'), ('and', 'CONJ'), ('often', 'ADV'), ('ambiguous', 'ADJ'), (\"''\", '.'), ('.', '.')], [('It', 'PRON'), ('recommended', 'VERB'), ('that', 'ADP'), ('Fulton', 'NOUN'), ('legislators', 'NOUN'), ('act', 'VERB'), ('``', '.'), ('to', 'PRT'), ('have', 'VERB'), ('these', 'DET'), ('laws', 'NOUN'), ('studied', 'VERB'), ('and', 'CONJ'), ('revised', 'VERB'), ('to', 'ADP'), ('the', 'DET'), ('end', 'NOUN'), ('of', 'ADP'), ('modernizing', 'VERB'), ('and', 'CONJ'), ('improving', 'VERB'), ('them', 'PRON'), (\"''\", '.'), ('.', '.')], [('The', 'DET'), ('grand', 'ADJ'), ('jury', 'NOUN'), ('commented', 'VERB'), ('on', 'ADP'), ('a', 'DET'), ('number', 'NOUN'), ('of', 'ADP'), ('other', 'ADJ'), ('topics', 'NOUN'), (',', '.'), ('among', 'ADP'), ('them', 'PRON'), ('the', 'DET'), ('Atlanta', 'NOUN'), ('and', 'CONJ'), ('Fulton', 'NOUN'), ('County', 'NOUN'), ('purchasing', 'VERB'), ('departments', 'NOUN'), ('which', 'DET'), ('it', 'PRON'), ('said', 'VERB'), ('``', '.'), ('are', 'VERB'), ('well', 'ADV'), ('operated', 'VERB'), ('and', 'CONJ'), ('follow', 'VERB'), ('generally', 'ADV'), ('accepted', 'VERB'), ('practices', 'NOUN'), ('which', 'DET'), ('inure', 'VERB'), ('to', 'ADP'), ('the', 'DET'), ('best', 'ADJ'), ('interest', 'NOUN'), ('of', 'ADP'), ('both', 'DET'), ('governments', 'NOUN'), (\"''\", '.'), ('.', '.')], [('Merger', 'NOUN'), ('proposed', 'VERB')], [('However', 'ADV'), (',', '.'), ('the', 'DET'), ('jury', 'NOUN'), ('said', 'VERB'), ('it', 'PRON'), ('believes', 'VERB'), ('``', '.'), ('these', 'DET'), ('two', 'NUM'), ('offices', 'NOUN'), ('should', 'VERB'), ('be', 'VERB'), ('combined', 'VERB'), ('to', 'PRT'), ('achieve', 'VERB'), ('greater', 'ADJ'), ('efficiency', 'NOUN'), ('and', 'CONJ'), ('reduce', 'VERB'), ('the', 'DET'), ('cost', 'NOUN'), ('of', 'ADP'), ('administration', 'NOUN'), (\"''\", '.'), ('.', '.')], [('The', 'DET'), ('City', 'NOUN'), ('Purchasing', 'VERB'), ('Department', 'NOUN'), (',', '.'), ('the', 'DET'), ('jury', 'NOUN'), ('said', 'VERB'), (',', '.'), ('``', '.'), ('is', 'VERB'), ('lacking', 'VERB'), ('in', 'ADP'), ('experienced', 'VERB'), ('clerical', 'ADJ'), ('personnel', 'NOUN'), ('as', 'ADP'), ('a', 'DET'), ('result', 'NOUN'), ('of', 'ADP'), ('city', 'NOUN'), ('personnel', 'NOUN'), ('policies', 'NOUN'), (\"''\", '.'), ('.', '.')]]\n"
     ]
    }
   ],
   "source": [
    "corpus = nltk.corpus.brown.tagged_sents(tagset='universal')[:10000]\n",
    "print(len(corpus))\n",
    "print(type(corpus))\n",
    "print(corpus[:10])"
   ],
   "metadata": {
    "collapsed": false,
    "pycharm": {
     "name": "#%%\n"
    }
   }
  },
  {
   "cell_type": "code",
   "execution_count": 3,
   "outputs": [
    {
     "name": "stdout",
     "output_type": "stream",
     "text": [
      "219770\n",
      "[('The', 'DET'), ('Fulton', 'NOUN'), ('County', 'NOUN'), ('Grand', 'ADJ'), ('Jury', 'NOUN'), ('said', 'VERB'), ('Friday', 'NOUN'), ('an', 'DET'), ('investigation', 'NOUN'), ('of', 'ADP')]\n"
     ]
    }
   ],
   "source": [
    "flat_corpus = [item for sublist in corpus for item in sublist]\n",
    "print(len(flat_corpus))\n",
    "print(flat_corpus[:10])"
   ],
   "metadata": {
    "collapsed": false,
    "pycharm": {
     "name": "#%%\n"
    }
   }
  },
  {
   "cell_type": "markdown",
   "source": [
    "## Question 1: generate the transition matrix, observation matrix, and initial state distribution"
   ],
   "metadata": {
    "collapsed": false,
    "pycharm": {
     "name": "#%% md\n"
    }
   }
  },
  {
   "cell_type": "markdown",
   "source": [
    "### Transition matrix"
   ],
   "metadata": {
    "collapsed": false,
    "pycharm": {
     "name": "#%% md\n"
    }
   }
  },
  {
   "cell_type": "code",
   "execution_count": 4,
   "outputs": [],
   "source": [
    "tags = [[x[1] for x in y] for y in corpus]"
   ],
   "metadata": {
    "collapsed": false,
    "pycharm": {
     "name": "#%%\n"
    }
   }
  },
  {
   "cell_type": "code",
   "execution_count": 5,
   "outputs": [],
   "source": [
    "def make_ngram(token, n, pred=False):\n",
    "    if len(token) == 0 and pred:\n",
    "        ngrams = ['' for _ in range(n - 1)]\n",
    "        return ngrams\n",
    "    ngrams = zip(*[token[i:] for i in range(n)])\n",
    "    ngrams = list(ngrams)\n",
    "    if pred:\n",
    "        ngrams = [x[1:] for x in ngrams]\n",
    "        return ngrams\n",
    "    return ngrams"
   ],
   "metadata": {
    "collapsed": false,
    "pycharm": {
     "name": "#%%\n"
    }
   }
  },
  {
   "cell_type": "code",
   "execution_count": 6,
   "outputs": [],
   "source": [
    "tags_bigram = []\n",
    "for tag in tags:\n",
    "    tags_bigram.append(make_ngram(tag, 2))"
   ],
   "metadata": {
    "collapsed": false,
    "pycharm": {
     "name": "#%%\n"
    }
   }
  },
  {
   "cell_type": "code",
   "execution_count": 7,
   "outputs": [],
   "source": [
    "tags_bigram_flat = [item for sublist in tags_bigram for item in sublist]"
   ],
   "metadata": {
    "collapsed": false,
    "pycharm": {
     "name": "#%%\n"
    }
   }
  },
  {
   "cell_type": "code",
   "execution_count": 8,
   "outputs": [
    {
     "data": {
      "text/plain": "[(('DET', 'NOUN'), 15796),\n (('NOUN', '.'), 15743),\n (('NOUN', 'ADP'), 13604),\n (('NOUN', 'NOUN'), 12624),\n (('ADP', 'DET'), 12035),\n (('ADJ', 'NOUN'), 11071),\n (('NOUN', 'VERB'), 8568),\n (('ADP', 'NOUN'), 7802),\n (('DET', 'ADJ'), 6424),\n (('VERB', 'VERB'), 6266)]"
     },
     "execution_count": 8,
     "metadata": {},
     "output_type": "execute_result"
    }
   ],
   "source": [
    "tags_freq = Counter(tags_bigram_flat)\n",
    "tags_freq = tags_freq.most_common(len(tags_freq))\n",
    "tags_freq[:10]"
   ],
   "metadata": {
    "collapsed": false,
    "pycharm": {
     "name": "#%%\n"
    }
   }
  },
  {
   "cell_type": "code",
   "execution_count": 9,
   "outputs": [],
   "source": [
    "unique_tags = np.unique([item for sublist in tags for item in sublist])\n",
    "ind_tag_map = {k: v for k, v in enumerate(unique_tags)}\n",
    "transition_matrix = np.zeros(shape=(12, 12))\n",
    "\n",
    "for idx, tag in enumerate(unique_tags):\n",
    "    placeholder = sorted(list(filter(lambda x: x[0][0] == tag, tags_freq)),\n",
    "                         key=lambda x: x[0][1])\n",
    "    placeholder = [x[1] for x in placeholder]\n",
    "    try:\n",
    "        transition_matrix[:, idx] = placeholder\n",
    "    except ValueError:\n",
    "        continue\n",
    "\n",
    "x = sorted(list(filter(lambda x: x[0][0] == \"X\", tags_freq)), key=lambda x: x[0][1])\n",
    "x = [x[1] for x in x]\n",
    "x.insert(8, 0)\n",
    "pron = sorted(list(filter(lambda x: x[0][0] == \"PRON\", tags_freq)), key=lambda x: x[0][1])\n",
    "pron = [x[1] for x in pron]\n",
    "pron.append(0)\n",
    "transition_matrix[:, 8] = pron\n",
    "transition_matrix[:, 11] = x\n",
    "transition_matrix = transition_matrix + 1  # smoothing\n",
    "norm = np.sum(transition_matrix, axis=1)\n",
    "transition_matrix = transition_matrix / norm[:, None]"
   ],
   "metadata": {
    "collapsed": false,
    "pycharm": {
     "name": "#%%\n"
    }
   }
  },
  {
   "cell_type": "code",
   "execution_count": 10,
   "outputs": [
    {
     "data": {
      "text/plain": "array([[9.29421340e-02, 5.68970195e-02, 1.20150382e-02, 5.11995659e-02,\n        5.93000271e-03, 1.28677183e-02, 6.10208907e-01, 3.43009961e-02,\n        2.19758924e-02, 9.18569048e-03, 8.98414790e-02, 2.63555676e-03],\n       [5.58851077e-02, 6.07555417e-02, 1.43490478e-01, 8.86668748e-02,\n        4.86418982e-02, 4.01186388e-01, 5.82578832e-02, 1.49235092e-02,\n        3.99625351e-03, 6.05682173e-03, 1.18014362e-01, 1.24882922e-04],\n       [7.26390387e-02, 5.04159606e-02, 1.98351564e-02, 5.03004160e-02,\n        1.72931752e-02, 8.93544908e-03, 5.23994762e-01, 1.88337698e-02,\n        1.32491142e-02, 1.74087198e-02, 2.06362656e-01, 7.31782468e-04],\n       [1.22984800e-01, 1.45094427e-02, 4.27222478e-02, 1.04790419e-01,\n        6.72501152e-02, 5.58498388e-02, 1.56379549e-01, 1.28972824e-02,\n        4.73284201e-02, 1.79640719e-02, 3.56863197e-01, 4.60617227e-04],\n       [2.61305706e-01, 8.99523105e-02, 5.92007893e-03, 2.13780628e-02,\n        6.57786548e-04, 2.30225292e-03, 5.13895741e-01, 1.94047032e-02,\n        1.34846242e-02, 6.74231212e-03, 6.39697418e-02, 9.86679822e-04],\n       [8.74086807e-02, 4.29737860e-03, 5.17232488e-01, 3.27460249e-02,\n        4.47357112e-02, 7.13364847e-03, 3.60979802e-02, 1.59003008e-03,\n        4.21143103e-03, 1.84787280e-02, 2.45981951e-01, 8.59475720e-05],\n       [5.23695945e-02, 1.91365066e-01, 1.34864669e-01, 6.56780393e-03,\n        3.31674099e-02, 2.73030523e-01, 2.18206644e-01, 2.30045975e-02,\n        1.08887276e-03, 3.64685955e-03, 6.22040167e-02, 4.83943448e-04],\n       [1.07482185e-01, 6.26484561e-02, 3.15023753e-01, 4.36460808e-02,\n        3.85985748e-02, 1.02137767e-01, 1.71615202e-01, 2.43467933e-02,\n        1.78147268e-03, 1.09857482e-02, 1.21140143e-01, 5.93824228e-04],\n       [1.86519566e-01, 6.89536287e-03, 2.32718497e-01, 5.91277366e-02,\n        6.01620410e-02, 3.72349595e-02, 1.82037580e-01, 3.27529736e-03,\n        1.12049647e-02, 2.93052922e-03, 2.17721083e-01, 1.72384072e-04],\n       [7.16080402e-02, 6.38609715e-02, 6.95142379e-02, 5.82077052e-02,\n        3.28726968e-02, 8.58458961e-03, 2.17755444e-01, 5.02512563e-03,\n        3.26633166e-02, 9.42211055e-03, 4.30067002e-01, 4.18760469e-04],\n       [6.91119088e-02, 7.96004370e-03, 3.26830030e-02, 7.63539878e-02,\n        3.31512408e-02, 4.92586234e-02, 2.67488684e-01, 4.80724208e-03,\n        1.58451693e-01, 1.04666771e-01, 1.95629780e-01, 4.37022007e-04],\n       [1.30268199e-01, 4.21455939e-02, 4.21455939e-02, 1.14942529e-02,\n        1.14942529e-02, 1.53256705e-01, 1.11111111e-01, 7.66283525e-03,\n        3.83141762e-03, 7.66283525e-03, 2.68199234e-02, 4.52107280e-01]])"
     },
     "execution_count": 10,
     "metadata": {},
     "output_type": "execute_result"
    }
   ],
   "source": [
    "transition_matrix"
   ],
   "metadata": {
    "collapsed": false,
    "pycharm": {
     "name": "#%%\n"
    }
   }
  },
  {
   "cell_type": "markdown",
   "source": [
    "### Observation matrix"
   ],
   "metadata": {
    "collapsed": false,
    "pycharm": {
     "name": "#%% md\n"
    }
   }
  },
  {
   "cell_type": "code",
   "execution_count": 44,
   "outputs": [
    {
     "data": {
      "text/plain": "[(('the', 'DET'), 12054),\n ((',', '.'), 11133),\n (('.', '.'), 8560),\n (('of', 'ADP'), 6770),\n (('and', 'CONJ'), 4935)]"
     },
     "execution_count": 44,
     "metadata": {},
     "output_type": "execute_result"
    }
   ],
   "source": [
    "obs_freq = Counter(flat_corpus)\n",
    "obs_freq = obs_freq.most_common(len(obs_freq))\n",
    "obs_freq[:5]"
   ],
   "metadata": {
    "collapsed": false,
    "pycharm": {
     "name": "#%%\n"
    }
   }
  },
  {
   "cell_type": "code",
   "execution_count": 79,
   "outputs": [],
   "source": [
    "unique_words = np.unique([x[0][0] for x in obs_freq])\n",
    "ind_word_map = {k: v for k, v in enumerate(unique_words)}\n",
    "\n",
    "obs_matrix = np.zeros(shape=(len(unique_words), len(unique_tags)))"
   ],
   "metadata": {
    "collapsed": false,
    "pycharm": {
     "name": "#%%\n"
    }
   }
  },
  {
   "cell_type": "code",
   "execution_count": 88,
   "outputs": [],
   "source": [
    "for row, word in enumerate(unique_words):\n",
    "    for col, tag in enumerate(unique_tags):\n",
    "        filtered_col = list(filter(lambda x: x[0][1] == tag, obs_freq))\n",
    "        filtered_row = list(filter(lambda x: x[0][0] == word, filtered_col))\n",
    "        if len(filtered_row) > 0:\n",
    "            obs_matrix[row, col] = filtered_row[0][1]"
   ],
   "metadata": {
    "collapsed": false,
    "pycharm": {
     "name": "#%%\n"
    }
   }
  },
  {
   "cell_type": "code",
   "execution_count": 61,
   "outputs": [],
   "source": [
    "#np.save(\"obs_matrix.pkl\", obs_matrix, allow_pickle=True)\n",
    "obs_matrix = np.load(\"obs_matrix.pkl.npy\")\n",
    "obs_matrix = obs_matrix + 1"
   ],
   "metadata": {
    "collapsed": false,
    "pycharm": {
     "name": "#%%\n"
    }
   }
  },
  {
   "cell_type": "code",
   "execution_count": 62,
   "outputs": [
    {
     "name": "stdout",
     "output_type": "stream",
     "text": [
      "(23488, 12)\n"
     ]
    }
   ],
   "source": [
    "print(obs_matrix.shape)\n",
    "unk = np.array([1., 1., 1., 1., 1., 1., 1., 1., 1., 1., 1., 1.]).astype(float)\n",
    "obs_matrix = np.vstack([obs_matrix, unk])"
   ],
   "metadata": {
    "collapsed": false,
    "pycharm": {
     "name": "#%%\n"
    }
   }
  },
  {
   "cell_type": "code",
   "execution_count": 63,
   "outputs": [],
   "source": [
    "norm_obs = np.sum(obs_matrix, axis=0)\n",
    "obs_matrix_norm = obs_matrix / norm_obs[None, :]"
   ],
   "metadata": {
    "collapsed": false,
    "pycharm": {
     "name": "#%%\n"
    }
   }
  },
  {
   "cell_type": "code",
   "execution_count": 16,
   "outputs": [],
   "source": [
    "#np.save(\"obs_matrix_norm\", obs_matrix_norm, allow_pickle=True)"
   ],
   "metadata": {
    "collapsed": false,
    "pycharm": {
     "name": "#%%\n"
    }
   }
  },
  {
   "cell_type": "markdown",
   "source": [
    "## Initial state distribution"
   ],
   "metadata": {
    "collapsed": false,
    "pycharm": {
     "name": "#%% md\n"
    }
   }
  },
  {
   "cell_type": "code",
   "execution_count": 64,
   "outputs": [],
   "source": [
    "first_words = [x[0] for x in corpus]"
   ],
   "metadata": {
    "collapsed": false,
    "pycharm": {
     "name": "#%%\n"
    }
   }
  },
  {
   "cell_type": "code",
   "execution_count": 65,
   "outputs": [],
   "source": [
    "first_words = [x[1] for x in first_words]"
   ],
   "metadata": {
    "collapsed": false,
    "pycharm": {
     "name": "#%%\n"
    }
   }
  },
  {
   "cell_type": "code",
   "execution_count": 66,
   "outputs": [],
   "source": [
    "first_words_freq = Counter(first_words)\n",
    "first_words_freq = first_words_freq.most_common(len(first_words_freq))"
   ],
   "metadata": {
    "collapsed": false,
    "pycharm": {
     "name": "#%%\n"
    }
   }
  },
  {
   "cell_type": "code",
   "execution_count": 67,
   "outputs": [],
   "source": [
    "first_words_freq = sorted(first_words_freq, key=lambda x: x[0])\n",
    "initial_state_dist = [x[1] / sum(y[1] for y in first_words_freq) for x in first_words_freq]"
   ],
   "metadata": {
    "collapsed": false,
    "pycharm": {
     "name": "#%%\n"
    }
   }
  },
  {
   "cell_type": "markdown",
   "source": [
    "### Viterbi algorithm"
   ],
   "metadata": {
    "collapsed": false,
    "pycharm": {
     "name": "#%% md\n"
    }
   }
  },
  {
   "cell_type": "code",
   "execution_count": 68,
   "outputs": [
    {
     "data": {
      "text/plain": "(12, 23489)"
     },
     "execution_count": 68,
     "metadata": {},
     "output_type": "execute_result"
    }
   ],
   "source": [
    "obs_matrix_norm = obs_matrix_norm.T\n",
    "obs_matrix_norm.shape"
   ],
   "metadata": {
    "collapsed": false,
    "pycharm": {
     "name": "#%%\n"
    }
   }
  },
  {
   "cell_type": "code",
   "execution_count": 122,
   "outputs": [],
   "source": [
    "def viterbi(obs, pi, A, B):\n",
    "    pi_log = np.log(pi)\n",
    "    A_log = np.log(A)\n",
    "    B_log = np.log(B)\n",
    "    states = A.shape[0]\n",
    "    n = len(obs)\n",
    "    print(n)\n",
    "\n",
    "    D_log = np.zeros((states, n))\n",
    "    E = np.zeros((states, n - 1)).astype(int)\n",
    "    D_log[:, 0] = pi_log + B_log[:, obs[0]]\n",
    "\n",
    "    for j in range(1, n):\n",
    "        for i in range(states):\n",
    "            temp_sum = A_log[:, i] + D_log[:, j - 1]\n",
    "            D_log[i, j] = np.max(temp_sum) + B_log[i, obs[j]]\n",
    "            E[i, j - 1] = np.argmax(temp_sum)\n",
    "    print(n)\n",
    "    S_opt = np.zeros(n).astype(int)\n",
    "    print(len(S_opt))\n",
    "    S_opt[-1] = np.argmax(D_log[:, -1])\n",
    "    for n in range(n - 2, -1, -1):\n",
    "        S_opt[n] = E[int(S_opt[n + 1]), n]\n",
    "    print(len(S_opt))\n",
    "    return S_opt"
   ],
   "metadata": {
    "collapsed": false,
    "pycharm": {
     "name": "#%%\n"
    }
   }
  },
  {
   "cell_type": "code",
   "execution_count": 114,
   "outputs": [
    {
     "data": {
      "text/plain": "[[('Those', 'DET'),\n  ('coming', 'VERB'),\n  ('from', 'ADP'),\n  ('other', 'ADJ'),\n  ('denominations', 'NOUN'),\n  ('will', 'VERB'),\n  ('welcome', 'VERB'),\n  ('the', 'DET'),\n  ('opportunity', 'NOUN'),\n  ('to', 'PRT'),\n  ('become', 'VERB'),\n  ('informed', 'VERB'),\n  ('.', '.')],\n [('The', 'DET'),\n  ('preparatory', 'ADJ'),\n  ('class', 'NOUN'),\n  ('is', 'VERB'),\n  ('an', 'DET'),\n  ('introductory', 'ADJ'),\n  ('face-to-face', 'ADJ'),\n  ('group', 'NOUN'),\n  ('in', 'ADP'),\n  ('which', 'DET'),\n  ('new', 'ADJ'),\n  ('members', 'NOUN'),\n  ('become', 'VERB'),\n  ('acquainted', 'VERB'),\n  ('with', 'ADP'),\n  ('one', 'NUM'),\n  ('another', 'DET'),\n  ('.', '.')],\n [('It', 'PRON'),\n  ('provides', 'VERB'),\n  ('a', 'DET'),\n  ('natural', 'ADJ'),\n  ('transition', 'NOUN'),\n  ('into', 'ADP'),\n  ('the', 'DET'),\n  ('life', 'NOUN'),\n  ('of', 'ADP'),\n  ('the', 'DET'),\n  ('local', 'ADJ'),\n  ('church', 'NOUN'),\n  ('and', 'CONJ'),\n  ('its', 'DET'),\n  ('organizations', 'NOUN'),\n  ('.', '.')]]"
     },
     "execution_count": 114,
     "metadata": {},
     "output_type": "execute_result"
    }
   ],
   "source": [
    "for_test = nltk.corpus.brown.tagged_sents(tagset=\"universal\")[10150:10153]\n",
    "for_test"
   ],
   "metadata": {
    "collapsed": false,
    "pycharm": {
     "name": "#%%\n"
    }
   }
  },
  {
   "cell_type": "code",
   "execution_count": 115,
   "outputs": [],
   "source": [
    "unique_words = np.unique([x[0][0] for x in obs_freq])\n",
    "ind_word_map = {k: v for k, v in enumerate(unique_words)}\n",
    "word_ind_map = {k: v for v, k in ind_word_map.items()}"
   ],
   "metadata": {
    "collapsed": false,
    "pycharm": {
     "name": "#%%\n"
    }
   }
  },
  {
   "cell_type": "code",
   "execution_count": 135,
   "outputs": [
    {
     "name": "stdout",
     "output_type": "stream",
     "text": [
      "16\n"
     ]
    }
   ],
   "source": [
    "test1 = [x[0] for x in for_test[2]]\n",
    "answer1 = [x[1] for x in for_test[2]]\n",
    "obs1 = [word_ind_map.get(word, 23488) for word in test1]\n",
    "print(len(obs1))"
   ],
   "metadata": {
    "collapsed": false,
    "pycharm": {
     "name": "#%%\n"
    }
   }
  },
  {
   "cell_type": "code",
   "execution_count": 136,
   "outputs": [
    {
     "name": "stdout",
     "output_type": "stream",
     "text": [
      "16\n",
      "16\n",
      "16\n",
      "16\n"
     ]
    }
   ],
   "source": [
    "a = viterbi(obs1, initial_state_dist, transition_matrix, obs_matrix_norm)\n",
    "a1 = [ind_tag_map[x] for x in a]"
   ],
   "metadata": {
    "collapsed": false,
    "pycharm": {
     "name": "#%%\n"
    }
   }
  },
  {
   "cell_type": "code",
   "execution_count": 137,
   "outputs": [
    {
     "data": {
      "text/plain": "['PRON',\n 'VERB',\n 'DET',\n 'ADP',\n 'NOUN',\n 'ADP',\n 'DET',\n 'NOUN',\n 'ADP',\n 'DET',\n 'ADP',\n 'NOUN',\n 'CONJ',\n '.',\n 'NOUN',\n '.']"
     },
     "execution_count": 137,
     "metadata": {},
     "output_type": "execute_result"
    }
   ],
   "source": [
    "a1"
   ],
   "metadata": {
    "collapsed": false,
    "pycharm": {
     "name": "#%%\n"
    }
   }
  },
  {
   "cell_type": "code",
   "execution_count": 138,
   "outputs": [
    {
     "data": {
      "text/plain": "0.8125"
     },
     "execution_count": 138,
     "metadata": {},
     "output_type": "execute_result"
    }
   ],
   "source": [
    "sum([x == y for x, y in zip(answer1, a1)]) / len(answer1)"
   ],
   "metadata": {
    "collapsed": false,
    "pycharm": {
     "name": "#%%\n"
    }
   }
  },
  {
   "cell_type": "code",
   "execution_count": 139,
   "outputs": [
    {
     "name": "stdout",
     "output_type": "stream",
     "text": [
      "['PRON', 'VERB', 'DET', 'ADP', 'NOUN', 'ADP', 'DET', 'NOUN', 'ADP', 'DET', 'ADP', 'NOUN', 'CONJ', '.', 'NOUN', '.']\n"
     ]
    }
   ],
   "source": [
    "print(a1)"
   ],
   "metadata": {
    "collapsed": false,
    "pycharm": {
     "name": "#%%\n"
    }
   }
  },
  {
   "cell_type": "code",
   "execution_count": 140,
   "outputs": [
    {
     "name": "stdout",
     "output_type": "stream",
     "text": [
      "['PRON', 'VERB', 'DET', 'ADJ', 'NOUN', 'ADP', 'DET', 'NOUN', 'ADP', 'DET', 'ADJ', 'NOUN', 'CONJ', 'DET', 'NOUN', '.']\n"
     ]
    }
   ],
   "source": [
    "print(answer1)"
   ],
   "metadata": {
    "collapsed": false,
    "pycharm": {
     "name": "#%%\n"
    }
   }
  },
  {
   "cell_type": "code",
   "execution_count": 142,
   "outputs": [
    {
     "data": {
      "text/plain": "13"
     },
     "execution_count": 142,
     "metadata": {},
     "output_type": "execute_result"
    }
   ],
   "source": [
    "sum([x == y for x, y in zip(answer1, a1)])"
   ],
   "metadata": {
    "collapsed": false,
    "pycharm": {
     "name": "#%%\n"
    }
   }
  },
  {
   "cell_type": "code",
   "execution_count": 146,
   "outputs": [
    {
     "data": {
      "text/plain": "list"
     },
     "execution_count": 146,
     "metadata": {},
     "output_type": "execute_result"
    }
   ],
   "source": [
    "type(a.tolist())"
   ],
   "metadata": {
    "collapsed": false,
    "pycharm": {
     "name": "#%%\n"
    }
   }
  },
  {
   "cell_type": "code",
   "execution_count": 147,
   "outputs": [
    {
     "data": {
      "text/plain": "[8, 10, 5, 2, 6, 2, 5, 6, 2, 5, 2, 6, 4, 0, 6, 0]"
     },
     "execution_count": 147,
     "metadata": {},
     "output_type": "execute_result"
    }
   ],
   "source": [
    "a.tolist()"
   ],
   "metadata": {
    "collapsed": false,
    "pycharm": {
     "name": "#%%\n"
    }
   }
  },
  {
   "cell_type": "code",
   "execution_count": 149,
   "outputs": [],
   "source": [],
   "metadata": {
    "collapsed": false,
    "pycharm": {
     "name": "#%%\n"
    }
   }
  },
  {
   "cell_type": "code",
   "execution_count": null,
   "outputs": [],
   "source": [],
   "metadata": {
    "collapsed": false,
    "pycharm": {
     "name": "#%%\n"
    }
   }
  }
 ],
 "metadata": {
  "kernelspec": {
   "display_name": "Python 3",
   "language": "python",
   "name": "python3"
  },
  "language_info": {
   "codemirror_mode": {
    "name": "ipython",
    "version": 2
   },
   "file_extension": ".py",
   "mimetype": "text/x-python",
   "name": "python",
   "nbconvert_exporter": "python",
   "pygments_lexer": "ipython2",
   "version": "2.7.6"
  }
 },
 "nbformat": 4,
 "nbformat_minor": 0
}